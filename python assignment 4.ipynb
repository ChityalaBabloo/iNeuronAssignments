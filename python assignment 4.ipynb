{
 "cells": [
  {
   "cell_type": "markdown",
   "metadata": {},
   "source": [
    "<div style=\"box-shadow: 0 4px 8px 0 rgba(0,0,0,0.2);transition:0.3s;border:1px dotted black\">\n",
    "    <div style=\"border-radius:10px;padding:8px 12px;width:auto;background-color:white;\">\n",
    "        <p style=\"font-family:courier;color:#000;font-size:15px;\">1.1 Write a Python Program(with class concepts) to find the area of the triangle using the below formula.<br></p>\n",
    "            \n",
    "<strong>area = (s*(s-a)*(s-b)*(s-c)) *** 0.5 </strong><br>\n",
    "            \n",
    "<p>Function to take the length of the sides of triangle from user should be defined in the parent class and function to calculate the area should be defined in subclass</p>     \n",
    "    </div>\n",
    "</div>"
   ]
  },
  {
   "cell_type": "code",
   "execution_count": 29,
   "metadata": {},
   "outputs": [
    {
     "name": "stdout",
     "output_type": "stream",
     "text": [
      "Please enter side a length: 4\n",
      "Please enter side b length: 5\n",
      "Please enter side c length: 6\n",
      "9.9216\n"
     ]
    }
   ],
   "source": [
    "class Triangle:\n",
    "    def __init__(self):\n",
    "        self.a = int(input(\"Please enter side a length: \"))\n",
    "        self.b = int(input(\"Please enter side b length: \"))\n",
    "        self.c = int(input(\"Please enter side c length: \"))\n",
    "        \n",
    "class Area(Triangle):\n",
    "    def __init__(self, *args):\n",
    "        self.a, self.b, self.c = args[0],args[1],args[2]\n",
    "    \n",
    "    def area_triangle(self):\n",
    "        a,b,c = self.a,self.b,self.c\n",
    "        s = (a+b+c)/2\n",
    "        return (s*(s-a)*(s-b)*(s-c)) ** 0.5\n",
    "\n",
    "triangle_obj = Triangle()\n",
    "aobj = Area(triangle_obj.a,triangle_obj.b,triangle_obj.c)\n",
    "area = aobj.area_triangle()\n",
    "print('%.4f' % area)"
   ]
  },
  {
   "cell_type": "markdown",
   "metadata": {},
   "source": [
    "<div style=\"box-shadow: 0 4px 8px 0 rgba(0,0,0,0.2);transition:0.3s;border:1px dotted black\">\n",
    "    <div style=\"border-radius:10px;padding:8px 12px;width:auto;background-color:white;\">\n",
    "        <p style=\"font-family:courier;color:#000;font-size:15px;\">1.2 Write a function filter_long_words() that takes a list of words and an integer n and returns the list of words that are longer than n. </p>\n",
    "    </div>\n",
    "</div>"
   ]
  },
  {
   "cell_type": "code",
   "execution_count": 37,
   "metadata": {},
   "outputs": [
    {
     "name": "stdout",
     "output_type": "stream",
     "text": [
      "['apple', 'asterik', 'allowed']\n"
     ]
    }
   ],
   "source": [
    "def filter_long_words(words, n):\n",
    "    result = []\n",
    "    return [i for i in words if len(i)>n]\n",
    "filtered_words = filter_long_words(['apple','and','asterik','an','allowed'],3)\n",
    "print(filtered_words)"
   ]
  },
  {
   "cell_type": "markdown",
   "metadata": {},
   "source": [
    "<div style=\"box-shadow: 0 4px 8px 0 rgba(0,0,0,0.2);transition:0.3s;border:1px dotted black\">\n",
    "    <div style=\"border-radius:10px;padding:8px 12px;width:auto;background-color:white;\">\n",
    "        <p style=\"font-family:courier;color:#000;font-size:15px;\">2.1 Write a Python program using function concept that maps list of words into a list of integers representing the lengths of the corresponding words.</p>\n",
    "<pre>\n",
    "Hint: If a list [ ab,cde,erty] is passed on to the python function output should come as [2,3,4]<br>\n",
    "Here 2,3 and 4 are the lengths of the words in the list.\n",
    "</pre>\n",
    "    </div>\n",
    "</div>"
   ]
  },
  {
   "cell_type": "code",
   "execution_count": 39,
   "metadata": {},
   "outputs": [
    {
     "data": {
      "text/plain": [
       "[2, 3, 4]"
      ]
     },
     "execution_count": 39,
     "metadata": {},
     "output_type": "execute_result"
    }
   ],
   "source": [
    "def len_func(words):\n",
    "    return [len(i) for i in words]\n",
    "len_func(['ab','cde','erty'])"
   ]
  },
  {
   "cell_type": "markdown",
   "metadata": {},
   "source": [
    "<div style=\"box-shadow: 0 4px 8px 0 rgba(0,0,0,0.2);transition:0.3s;border:1px dotted black\">\n",
    "    <div style=\"border-radius:10px;padding:8px 12px;width:auto;background-color:white;\">\n",
    "        <p style=\"font-family:courier;color:#000;font-size:15px;\">2.2 Write a Python function which takes a character (i.e. a string of length 1) and returns True if it is a vowel, False otherwise.</p>\n",
    "    </div>\n",
    "</div>"
   ]
  },
  {
   "cell_type": "code",
   "execution_count": 45,
   "metadata": {},
   "outputs": [
    {
     "name": "stdout",
     "output_type": "stream",
     "text": [
      "g\n"
     ]
    },
    {
     "data": {
      "text/plain": [
       "'False'"
      ]
     },
     "execution_count": 45,
     "metadata": {},
     "output_type": "execute_result"
    }
   ],
   "source": [
    "def func_char(a):\n",
    "    return 'True' if a in 'aeiou' else 'False'\n",
    "func_char(input()[:1])"
   ]
  },
  {
   "cell_type": "code",
   "execution_count": null,
   "metadata": {},
   "outputs": [],
   "source": []
  }
 ],
 "metadata": {
  "kernelspec": {
   "display_name": "Python 3",
   "language": "python",
   "name": "python3"
  },
  "language_info": {
   "codemirror_mode": {
    "name": "ipython",
    "version": 3
   },
   "file_extension": ".py",
   "mimetype": "text/x-python",
   "name": "python",
   "nbconvert_exporter": "python",
   "pygments_lexer": "ipython3",
   "version": "3.7.6"
  }
 },
 "nbformat": 4,
 "nbformat_minor": 4
}
