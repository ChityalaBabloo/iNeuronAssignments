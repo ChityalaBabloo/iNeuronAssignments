{
 "cells": [
  {
   "cell_type": "markdown",
   "metadata": {},
   "source": [
    "<div style=\"box-shadow: 0 4px 8px 0 rgba(0,0,0,0.2);transition:0.3s;border:1px dotted black\">\n",
    "    <div style=\"border-radius:10px;padding:8px 12px;width:auto;background-color:white;\">\n",
    "        <p style=\"font-family:courier;color:#000;font-size:15px;\">1. Write a function to compute 5/0 and use try/except to catch the exceptions.</p>   \n",
    "    </div>\n",
    "</div>"
   ]
  },
  {
   "cell_type": "code",
   "execution_count": 2,
   "metadata": {},
   "outputs": [
    {
     "name": "stdout",
     "output_type": "stream",
     "text": [
      "Exception:  division by zero\n"
     ]
    }
   ],
   "source": [
    "def divideByZero():\n",
    "    return 5/0\n",
    "try:\n",
    "    divideByZero()\n",
    "except Exception as e:\n",
    "    print('Exception: ',e)"
   ]
  },
  {
   "cell_type": "markdown",
   "metadata": {},
   "source": [
    "<div style=\"box-shadow: 0 4px 8px 0 rgba(0,0,0,0.2);transition:0.3s;border:1px dotted black\">\n",
    "    <div style=\"border-radius:10px;padding:8px 12px;width:auto;background-color:white;\">\n",
    "        <p style=\"font-family:courier;color:#000;font-size:15px;\">2. Implement a Python program to generate all sentences where subject is in [\"Americans\", \"Indians\"] and verb is in [\"Play\", \"watch\"] and the object is in [\"Baseball\",\"cricket\"].\n",
    "Hint: Subject,Verb and Object should be declared in the program as shown below.</p>\n",
    "<pre>\n",
    "subjects=[\"Americans\",\"Indians\"]\n",
    "verbs=[\"play\",\"watch\"]\n",
    "objects=[\"Baseball\",\"Cricket\"]\n",
    "</pre>\n",
    "    </div>\n",
    "</div>"
   ]
  },
  {
   "cell_type": "code",
   "execution_count": 11,
   "metadata": {},
   "outputs": [
    {
     "name": "stdout",
     "output_type": "stream",
     "text": [
      "Americans play Baseball.\n",
      " Americans play Cricket.\n",
      " Americans watch Baseball.\n",
      " Americans watch Cricket.\n",
      " Indians play Baseball.\n",
      " Indians play Cricket.\n",
      " Indians watch Baseball.\n",
      " Indians watch Cricket.\n",
      "\n"
     ]
    }
   ],
   "source": [
    "def sentences(subjects,verbs,objects):\n",
    "    return [f'{i} {j} {k}.' for i in subjects for j in verbs for k in objects]\n",
    "subjects= [\"Americans\",\"Indians\"]\n",
    "verbs = [\"play\",\"watch\"]\n",
    "objects = [\"Baseball\",\"Cricket\"]\n",
    "result = sentences(subjects,verbs,objects)\n",
    "print(*result)"
   ]
  },
  {
   "cell_type": "code",
   "execution_count": null,
   "metadata": {},
   "outputs": [],
   "source": []
  }
 ],
 "metadata": {
  "kernelspec": {
   "display_name": "Python 3",
   "language": "python",
   "name": "python3"
  },
  "language_info": {
   "codemirror_mode": {
    "name": "ipython",
    "version": 3
   },
   "file_extension": ".py",
   "mimetype": "text/x-python",
   "name": "python",
   "nbconvert_exporter": "python",
   "pygments_lexer": "ipython3",
   "version": "3.7.6"
  }
 },
 "nbformat": 4,
 "nbformat_minor": 4
}
