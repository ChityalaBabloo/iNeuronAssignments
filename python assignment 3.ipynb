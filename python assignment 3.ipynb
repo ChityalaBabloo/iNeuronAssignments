{
 "cells": [
  {
   "cell_type": "markdown",
   "metadata": {},
   "source": [
    "<div style=\"box-shadow: 0 4px 8px 0 rgba(0,0,0,0.2);transition:0.3s;border:1px dotted black\">\n",
    "    <div style=\"border-radius:10px;padding:8px 12px;width:auto;background-color:white;\">\n",
    "        <p style=\"font-family:courier;color:#000;font-size:15px;\">1.1 Write a Python Program to implement your own myreduce() function which works exactly like Python's built-in function reduce()</p>     \n",
    "    </div>\n",
    "</div>"
   ]
  },
  {
   "cell_type": "code",
   "execution_count": 3,
   "metadata": {},
   "outputs": [
    {
     "name": "stdout",
     "output_type": "stream",
     "text": [
      "139\n"
     ]
    }
   ],
   "source": [
    "def sum(a,b):\n",
    "    return a+b\n",
    "\n",
    "def myreduce(func,iterable):\n",
    "    result = iterable[0]\n",
    "    for i in iterable[1:]:\n",
    "        result = result + func(result,i)\n",
    "    return result\n",
    "\n",
    "strn = myreduce(sum,[11,1,9,29])\n",
    "print(strn)"
   ]
  },
  {
   "cell_type": "markdown",
   "metadata": {},
   "source": [
    "<div style=\"box-shadow: 0 4px 8px 0 rgba(0,0,0,0.2);transition:0.3s;border:1px dotted black\">\n",
    "    <div style=\"border-radius:10px;padding:8px 12px;width:auto;background-color:white;\">\n",
    "        <p style=\"font-family:courier;color:#000;font-size:15px;\">1.2 Write a Python program to implement your own myfilter() function which works exactly like Python's built-in function filter()</p>\n",
    "    </div>\n",
    "</div>"
   ]
  },
  {
   "cell_type": "code",
   "execution_count": 4,
   "metadata": {},
   "outputs": [
    {
     "name": "stdout",
     "output_type": "stream",
     "text": [
      "[4, 10]\n"
     ]
    }
   ],
   "source": [
    "def isEven(num):\n",
    "    if num%2==0:\n",
    "        return num\n",
    "\n",
    "def myfilter(func, iterable):\n",
    "    result = []\n",
    "    for i in iterable:\n",
    "        if isEven(i):\n",
    "            result.append(i)\n",
    "    return result\n",
    "\n",
    "strn = myfilter(isEven, [15,1,4,5,10])\n",
    "print(strn)"
   ]
  },
  {
   "cell_type": "markdown",
   "metadata": {},
   "source": [
    "<div style=\"box-shadow: 0 4px 8px 0 rgba(0,0,0,0.2);transition:0.3s;border:1px dotted black\">\n",
    "    <div style=\"border-radius:10px;padding:8px 12px;width:auto;background-color:white;\">\n",
    "        <p style=\"font-family:courier;color:#000;font-size:15px;\">2. Implement List comprehensions to produce the following lists. Write List comprehensions to produce the following Lists.</p>\n",
    "<pre>\n",
    "['x', 'xx', 'xxx', 'xxxx', 'y', 'yy', 'yyy', 'yyyy', 'z', 'zz', 'zzz', 'zzzz']<br>\n",
    "['x', 'y', 'z', 'xx', 'yy', 'zz', 'xxx', 'yyy', 'zzz', 'xxxx', 'yyyy', 'zzzz']<br>\n",
    "[[2], [3], [4], [3], [4], [5], [4], [5], [6]] [[2, 3, 4, 5], [3, 4, 5, 6], [4, 5, 6, 7], [5, 6, 7, 8]]<br>\n",
    "[(1, 1), (2, 1), (3, 1), (1, 2), (2, 2), (3, 2), (1, 3), (2, 3), (3, 3)]\n",
    "</pre>\n",
    "    </div>\n",
    "</div>"
   ]
  },
  {
   "cell_type": "code",
   "execution_count": 8,
   "metadata": {},
   "outputs": [
    {
     "name": "stdout",
     "output_type": "stream",
     "text": [
      "['x', 'xx', 'xxx', 'xxxx', 'y', 'yy', 'yyy', 'yyyy', 'z', 'zz', 'zzz', 'zzzz']\n"
     ]
    }
   ],
   "source": [
    "li = ['x','y','z']\n",
    "print([i*j for i in li for j in range(1,len(li)+2)])"
   ]
  },
  {
   "cell_type": "code",
   "execution_count": 9,
   "metadata": {},
   "outputs": [
    {
     "name": "stdout",
     "output_type": "stream",
     "text": [
      "['x', 'y', 'z', 'xx', 'yy', 'zz', 'xxx', 'yyy', 'zzz', 'xxxx', 'yyyy', 'zzzz']\n"
     ]
    }
   ],
   "source": [
    "print([i*j for i in range(1,len(li)+2) for j in li])"
   ]
  },
  {
   "cell_type": "code",
   "execution_count": 10,
   "metadata": {},
   "outputs": [
    {
     "name": "stdout",
     "output_type": "stream",
     "text": [
      "[[2], [3], [4], [3], [4], [5], [4], [5], [6]] [[2, 3, 4, 5], [3, 4, 5, 6], [4, 5, 6, 7], [5, 6, 7, 8]]\n"
     ]
    }
   ],
   "source": [
    "li = [2,3,4,5,6,7,8]\n",
    "a = [[li[i+j]] for i in range(len(li)//2) for j in range(len(li)//2)],[li[i:i+4] for i in range(len(li)//2+1)]\n",
    "print(*a,sep=\" \")"
   ]
  },
  {
   "cell_type": "code",
   "execution_count": 11,
   "metadata": {},
   "outputs": [
    {
     "name": "stdout",
     "output_type": "stream",
     "text": [
      "[(1, 1), (2, 1), (3, 1), (1, 2), (2, 2), (3, 2), (1, 3), (2, 3), (3, 3)]\n"
     ]
    }
   ],
   "source": [
    "a = 1,2,3\n",
    "print([(j,i) for i in a for j in a])"
   ]
  }
 ],
 "metadata": {
  "kernelspec": {
   "display_name": "Python 3",
   "language": "python",
   "name": "python3"
  },
  "language_info": {
   "codemirror_mode": {
    "name": "ipython",
    "version": 3
   },
   "file_extension": ".py",
   "mimetype": "text/x-python",
   "name": "python",
   "nbconvert_exporter": "python",
   "pygments_lexer": "ipython3",
   "version": "3.7.6"
  }
 },
 "nbformat": 4,
 "nbformat_minor": 4
}
