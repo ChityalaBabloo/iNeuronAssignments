{
 "cells": [
  {
   "cell_type": "markdown",
   "metadata": {},
   "source": [
    "<div style=\"box-shadow: 0 4px 8px 0 rgba(0,0,0,0.2);transition:0.3s;border:1px dotted black\">\n",
    "    <div style=\"border-radius:10px;padding:8px 12px;width:auto;background-color:white;\">\n",
    "        <p style=\"font-family:courier;color:#000;font-size:15px;\">1. Create the below pattern using nested for loop in Python.</p>\n",
    "<pre>\n",
    "*\n",
    "**\n",
    "***\n",
    "****\n",
    "***\n",
    "**\n",
    "*</pre>      \n",
    "    </div>\n",
    "</div>"
   ]
  },
  {
   "cell_type": "code",
   "execution_count": 6,
   "metadata": {},
   "outputs": [
    {
     "name": "stdout",
     "output_type": "stream",
     "text": [
      "Please enter a number > 1: 4\n",
      "*\n",
      "**\n",
      "***\n",
      "****\n",
      "***\n",
      "**\n",
      "*\n"
     ]
    }
   ],
   "source": [
    "n = int(input('Please enter a number > 1: '))\n",
    "for i in range(1,n+1):\n",
    "    print('*' * i)\n",
    "    if i == n:\n",
    "        for j in range(n-1,0,-1):\n",
    "            print('*' * j)"
   ]
  },
  {
   "cell_type": "markdown",
   "metadata": {},
   "source": [
    "<div style=\"box-shadow: 0 4px 8px 0 rgba(0,0,0,0.2);transition:0.3s;border:1px dotted black\">\n",
    "    <div style=\"border-radius:10px;padding:8px 12px;width:auto;background-color:white;\">\n",
    "        <p style=\"font-family:courier;color:#000;font-size:15px;\">2. Write a Python program to reverse a word after accepting the input from the user.</p>\n",
    "    </div>\n",
    "</div>"
   ]
  },
  {
   "cell_type": "code",
   "execution_count": 8,
   "metadata": {},
   "outputs": [
    {
     "name": "stdout",
     "output_type": "stream",
     "text": [
      "Enter a word: azad\n",
      "daza\n"
     ]
    }
   ],
   "source": [
    "#Accepting a input from user\n",
    "word = input('Enter a word: ')\n",
    "print(word[::-1])"
   ]
  }
 ],
 "metadata": {
  "kernelspec": {
   "display_name": "Python 3",
   "language": "python",
   "name": "python3"
  },
  "language_info": {
   "codemirror_mode": {
    "name": "ipython",
    "version": 3
   },
   "file_extension": ".py",
   "mimetype": "text/x-python",
   "name": "python",
   "nbconvert_exporter": "python",
   "pygments_lexer": "ipython3",
   "version": "3.7.6"
  }
 },
 "nbformat": 4,
 "nbformat_minor": 4
}
